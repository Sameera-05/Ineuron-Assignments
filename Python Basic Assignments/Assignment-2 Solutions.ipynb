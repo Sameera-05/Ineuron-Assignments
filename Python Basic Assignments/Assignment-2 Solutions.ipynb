{
 "cells": [
  {
   "cell_type": "markdown",
   "id": "1ba5d50f",
   "metadata": {},
   "source": [
    "# Assignment 2 solutions"
   ]
  },
  {
   "cell_type": "markdown",
   "id": "3510a1a3",
   "metadata": {},
   "source": [
    "## 1.What are the two values of the Boolean data type? How do you write them?\n",
    "\n",
    "### Answer:\n",
    "\n",
    "True and False are two values of the boolen data types. We have to use capital T and F and with the rest of the word in lowercase"
   ]
  },
  {
   "cell_type": "code",
   "execution_count": 1,
   "id": "eabef3d2",
   "metadata": {},
   "outputs": [
    {
     "name": "stdout",
     "output_type": "stream",
     "text": [
      "True <class 'bool'>\n",
      "False <class 'bool'>\n"
     ]
    }
   ],
   "source": [
    "x=True\n",
    "y=False\n",
    "\n",
    "print(x,type(x))\n",
    "print(y,type(y))"
   ]
  },
  {
   "cell_type": "markdown",
   "id": "1ef93256",
   "metadata": {},
   "source": [
    "## 2. What are the three different types of Boolean operators?\n",
    "\n",
    "### Answer:\n",
    "\n",
    "The 3 types of boolean operators are: \n",
    "* or,and,not\n"
   ]
  },
  {
   "cell_type": "code",
   "execution_count": 2,
   "id": "7eb5501b",
   "metadata": {},
   "outputs": [
    {
     "name": "stdout",
     "output_type": "stream",
     "text": [
      "True\n",
      "True\n",
      "False\n"
     ]
    }
   ],
   "source": [
    "a=100\n",
    "b=200\n",
    "print(a>50 and b>100) # boolean and\n",
    "print(a>200 or b>100) # boolean or\n",
    "print(not(a>10)) # boolean not"
   ]
  },
  {
   "cell_type": "markdown",
   "id": "48b33abf",
   "metadata": {},
   "source": [
    "## 3. Make a list of each Boolean operator's truth tables (i.e. every possible combination of Boolean values for the operator and what it evaluate ).\n",
    "\n",
    "### Ans: The Truth tables for the boolean tables are as follows: 0=false,1=true\n",
    "\n",
    "#### Truth Table for and operaotor:\n",
    "    1 and 1 is 1\n",
    "    1 and 0 is 0\n",
    "    0 and 1 is 0\n",
    "    0 and 0 is 0\n",
    "#### Truth Table for or operaotor:\n",
    "    1 or 1 is 1\n",
    "    1 or 0 is 1\n",
    "    0 or 1 is 1\n",
    "    0 or 0 is 0\n",
    "#### Truth Table for not operaotor:\n",
    "    1 not is 0\n",
    "    0 not is 1"
   ]
  },
  {
   "cell_type": "markdown",
   "id": "997222ad",
   "metadata": {},
   "source": [
    "## 4. What are the values of the following expressions?\n",
    "\n",
    "    (5 > 4) and (3 == 5)\n",
    "    not (5 > 4)\n",
    "    (5 > 4) or (3 == 5)\n",
    "    not ((5 > 4) or (3 == 5))\n",
    "    (True and True) and (True == False)\n",
    "    (not False) or (not True)\n"
   ]
  },
  {
   "cell_type": "code",
   "execution_count": 10,
   "id": "666c34d2",
   "metadata": {},
   "outputs": [
    {
     "name": "stdout",
     "output_type": "stream",
     "text": [
      "False\n",
      "False\n",
      "True\n",
      "False\n",
      "False\n",
      "True\n"
     ]
    }
   ],
   "source": [
    "print((5 > 4) and (3 == 5))\n",
    "print(not (5 > 4))\n",
    "print((5 > 4) or (3 == 5))\n",
    "print(not ((5 > 4) or (3 == 5)))\n",
    "print((True and True) and (True == False))\n",
    "print((not False) or (not True))\n",
    "\n",
    "\n"
   ]
  },
  {
   "cell_type": "markdown",
   "id": "66eee582",
   "metadata": {},
   "source": [
    "## 5. What are the six comparison operators?\n",
    "\n",
    "### Answer:\n",
    "\n",
    "     >(greater than)\n",
    "     <(less than)\n",
    "     <=(less than and equal to)\n",
    "     >=(greater than and equal to)\n",
    "     ==(equals to)\n",
    "     !=(Not equal to)"
   ]
  },
  {
   "cell_type": "markdown",
   "id": "5c0838e4",
   "metadata": {},
   "source": [
    "## 6. How do you tell the difference between the equal to and assignment operators?Describe a condition and when you would use one.\n",
    "\n",
    "    = means assign operator\n",
    "    == means equals to operator(comparision operator)"
   ]
  },
  {
   "cell_type": "code",
   "execution_count": 12,
   "id": "e9e0a70a",
   "metadata": {},
   "outputs": [
    {
     "name": "stdout",
     "output_type": "stream",
     "text": [
      "a is equal to 5\n"
     ]
    }
   ],
   "source": [
    "a=5#assign operator used to assign a value to a variable\n",
    "if(a==5):#equal to operator to follow a condition\n",
    "    print(\"a is equal to 5\")"
   ]
  },
  {
   "cell_type": "markdown",
   "id": "a1d25be8",
   "metadata": {},
   "source": [
    "## 7. Identify the three blocks in this code:\n",
    "    spam = 0\n",
    "    if spam == 10:\n",
    "    print('eggs')\n",
    "    if spam > 5:\n",
    "    print('bacon')\n",
    "    else:\n",
    "    print('ham')\n",
    "    print('spam')\n",
    "    print('spam')\n"
   ]
  },
  {
   "cell_type": "code",
   "execution_count": 18,
   "id": "6f3603b2",
   "metadata": {},
   "outputs": [
    {
     "name": "stdout",
     "output_type": "stream",
     "text": [
      "ham\n",
      "spam\n",
      "spam\n"
     ]
    }
   ],
   "source": [
    "spam = 0\n",
    "if spam == 10:#block 1\n",
    "    print('eggs')\n",
    "if spam > 5:#block 2\n",
    "    print('bacon')\n",
    "else:#block 3\n",
    "    print('ham')\n",
    "    print('spam')\n",
    "    print('spam')"
   ]
  },
  {
   "cell_type": "markdown",
   "id": "b4d64d5c",
   "metadata": {},
   "source": [
    "## 8. Write code that prints Hello if 1 is stored in spam, prints Howdy if 2 is stored in spam, and prints Greetings! if anything else is stored in spam.\n"
   ]
  },
  {
   "cell_type": "code",
   "execution_count": 33,
   "id": "c4e88a7e",
   "metadata": {},
   "outputs": [
    {
     "name": "stdout",
     "output_type": "stream",
     "text": [
      "Hello\n",
      "Howdy\n",
      "Greetings\n"
     ]
    }
   ],
   "source": [
    "def spamCode(spam):\n",
    "    if spam==1:\n",
    "        print('Hello')\n",
    "    elif spam==2:\n",
    "        print('Howdy')\n",
    "    else:\n",
    "        print('Greetings')\n",
    "        \n",
    "spamCode(1) \n",
    "spamCode(2)\n",
    "spamCode(3)"
   ]
  },
  {
   "cell_type": "markdown",
   "id": "e701b320",
   "metadata": {},
   "source": [
    "## 9.If your programme is stuck in an endless loop, what keys you’ll press?\n",
    "\n",
    "### Answer:\n",
    "\n",
    " Press Ctrl-c to stop a program stuck in an infinite loop"
   ]
  },
  {
   "cell_type": "markdown",
   "id": "a38e9851",
   "metadata": {},
   "source": [
    "## 10. How can you tell the difference between break and continue?\n",
    "\n",
    "### Answer:\n",
    "\n",
    "The break statement will move the execution outside the loop if break condtion is satisfied. Whereas the continue statement will move the execution to the start of the loop."
   ]
  },
  {
   "cell_type": "markdown",
   "id": "050e64f0",
   "metadata": {},
   "source": [
    "## 11. In a for loop, what is the difference between range(10), range(0, 10), and range(0, 10, 1)?\n",
    "\n",
    "* The Differences are as follows:\n",
    "\n",
    "        The range(10) call range from 0 to 9 (but not include 10)\n",
    "        The range (0,10) explicitly tells the loop to start at 0\n",
    "        The range(0,10,1) explicitly tells the loop to increase the variable by 1 on each iteration\n"
   ]
  },
  {
   "cell_type": "markdown",
   "id": "c73095b3",
   "metadata": {},
   "source": [
    "## 12. Write a short program that prints the numbers 1 to 10 using a for loop. Then write an equivalent program that prints the numbers 1 to 10 using a while loop.\n"
   ]
  },
  {
   "cell_type": "code",
   "execution_count": 38,
   "id": "6c060b94",
   "metadata": {},
   "outputs": [
    {
     "name": "stdout",
     "output_type": "stream",
     "text": [
      "Using For Loop:\n",
      "1 2 3 4 5 6 7 8 9 10 \n",
      "\n",
      "Using While Loop:\n",
      "1 2 3 4 5 6 7 8 9 10 "
     ]
    }
   ],
   "source": [
    "print('Using For Loop:')\n",
    "for i in range(1,11):\n",
    "    print(i, end=\" \")\n",
    "print('\\n')\n",
    "print('Using While Loop:') \n",
    "i=1\n",
    "while i<=10:\n",
    "    print(i, end=\" \")\n",
    "    i+=1"
   ]
  },
  {
   "cell_type": "markdown",
   "id": "f342b51b",
   "metadata": {},
   "source": [
    "## 13. If you had a function named bacon() inside a module named spam, how would you call it after importing spam?\n",
    "\n",
    "### Answer:\n",
    "\n",
    "This function can be called with spam.bacon()\n"
   ]
  }
 ],
 "metadata": {
  "kernelspec": {
   "display_name": "Python 3 (ipykernel)",
   "language": "python",
   "name": "python3"
  },
  "language_info": {
   "codemirror_mode": {
    "name": "ipython",
    "version": 3
   },
   "file_extension": ".py",
   "mimetype": "text/x-python",
   "name": "python",
   "nbconvert_exporter": "python",
   "pygments_lexer": "ipython3",
   "version": "3.9.7"
  }
 },
 "nbformat": 4,
 "nbformat_minor": 5
}
