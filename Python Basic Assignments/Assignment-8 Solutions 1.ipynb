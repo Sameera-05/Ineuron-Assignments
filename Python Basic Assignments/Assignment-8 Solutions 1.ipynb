{
 "cells": [
  {
   "cell_type": "markdown",
   "id": "a71b23ac",
   "metadata": {},
   "source": [
    "# Assignment 8 Solutions"
   ]
  },
  {
   "cell_type": "markdown",
   "id": "10892e8c",
   "metadata": {},
   "source": [
    "## 1. Is the Python Standard Library included with PyInputPlus?\n",
    "\n",
    "### Answer:\n",
    "\n",
    "It should be installed by the user seperately by using command:!pip install PyInputPlus"
   ]
  },
  {
   "cell_type": "markdown",
   "id": "92c5149d",
   "metadata": {},
   "source": [
    "## 2. Why is PyInputPlus commonly imported with import pyinputplus as pypi?\n",
    "\n",
    "### Answer:\n",
    "You can import the module with import pyinputplus as pyip so that you can enter a shorter name when calling the module's functions."
   ]
  },
  {
   "cell_type": "markdown",
   "id": "83ab6ac0",
   "metadata": {},
   "source": [
    "## 3. How do you distinguish between inputInt() and inputFloat()?\n",
    "\n",
    "### Answer:\n",
    "<code>inputInt()</code> function Accepts an integer value. Whereas <code>inputFloat()</code> function Accepts a floating-point numeric value. "
   ]
  },
  {
   "cell_type": "markdown",
   "id": "05738ac4",
   "metadata": {},
   "source": [
    "## 4. Using PyInputPlus, how do you ensure that the user enters a whole number between 0 and 99?\n"
   ]
  },
  {
   "cell_type": "code",
   "execution_count": 1,
   "id": "b52bfe9a",
   "metadata": {},
   "outputs": [
    {
     "name": "stdout",
     "output_type": "stream",
     "text": [
      "Enter a number: 78\n",
      "78\n"
     ]
    }
   ],
   "source": [
    "import pyinputplus as pyip\n",
    "print(pyip.inputInt(prompt='Enter a number: ', min=0, max=100))\n"
   ]
  },
  {
   "cell_type": "markdown",
   "id": "db6790c6",
   "metadata": {},
   "source": [
    "## 5. What is transferred to the keyword arguments allowRegexes and blockRegexes?\n",
    "\n",
    "### Answer:\n",
    "we can use <code>allowRegexes</code> and <code>blockRegexes</code> keyword arguments to take list of regular expression strings to determine what the pyinputplus function will reject or accept valid input."
   ]
  },
  {
   "cell_type": "markdown",
   "id": "8225206a",
   "metadata": {},
   "source": [
    "## 6. If a blank input is entered three times, what does inputStr(limit=3) do?\n",
    "\n",
    "### Answer:\n",
    "The statement <code>inputStr(limit=3)</code> will throw two exceptions <b>ValidationException</b> and <b>RetryLimitException</b>. The first exception is thrown because blank values are not allowed by inputStr() function by default. it we want to consider blank values as valid input, we have to set blank=True.\n",
    "\n",
    "The second exception is occured because we have reached the max limit we have specified by using limit parameter. inorder to avoid this exception we can use default parameter to return a default value when max limit is reached."
   ]
  },
  {
   "cell_type": "markdown",
   "id": "38e8dad1",
   "metadata": {},
   "source": [
    "## 7. If blank input is entered three times, what does inputStr(limit=3, default='hello') do?\n",
    "\n",
    "### Answer:\n",
    "Since the default parameter is set to<code> hello</code>. after blank input is entered three times instead of raising <b>RetryLimitException exception</b>. the function will return hello as response to the calling function"
   ]
  },
  {
   "cell_type": "code",
   "execution_count": null,
   "id": "55fe936f",
   "metadata": {},
   "outputs": [],
   "source": []
  }
 ],
 "metadata": {
  "kernelspec": {
   "display_name": "Python 3 (ipykernel)",
   "language": "python",
   "name": "python3"
  },
  "language_info": {
   "codemirror_mode": {
    "name": "ipython",
    "version": 3
   },
   "file_extension": ".py",
   "mimetype": "text/x-python",
   "name": "python",
   "nbconvert_exporter": "python",
   "pygments_lexer": "ipython3",
   "version": "3.9.7"
  }
 },
 "nbformat": 4,
 "nbformat_minor": 5
}
