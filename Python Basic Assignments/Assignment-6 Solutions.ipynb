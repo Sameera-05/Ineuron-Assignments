{
 "cells": [
  {
   "cell_type": "markdown",
   "id": "dac3c7d6",
   "metadata": {},
   "source": [
    "# Assignment 6 Solutions"
   ]
  },
  {
   "cell_type": "markdown",
   "id": "e381e34d",
   "metadata": {},
   "source": [
    "## 1. What are escape characters, and how do you use them?\n",
    "\n",
    "### Answer:\n",
    "Escape characters represent characters in string values that would otherwise be difficult or impossible to type into code. we can use the backslash character to escape a single character or symbol\n",
    "example:<code> \\t</code>, <code>\\n</code>"
   ]
  },
  {
   "cell_type": "markdown",
   "id": "2c7d777d",
   "metadata": {},
   "source": [
    "## 2. What do the escape characters n and t stand for?\n",
    "\n",
    "### Answer:\n",
    "<code>\\n</code> is a newline, <code>\\t </code>is a tab"
   ]
  },
  {
   "cell_type": "markdown",
   "id": "5a476eba",
   "metadata": {},
   "source": [
    "## 3. What is the way to include backslash characters in a string?\n",
    "\n",
    "### Answer:\n",
    "The \" \\\\\" escape character will represent the backslash character in a string"
   ]
  },
  {
   "cell_type": "markdown",
   "id": "f479e09f",
   "metadata": {},
   "source": [
    "## 4. The string \"Howl's Moving Castle\" is a correct value. Why isn't the single quote character in the word Howl's not escaped a problem?\n",
    "\n",
    "### Answer:\n",
    "The string <code>\"Howl's Moving Castle\" </code>escaped the problem because it is wrapped inside double quotes. if its wrapped inside single quotes then we have to use escape character <code>\\\\'</code> to show single quote in the final output\n",
    "<code>'Howl\\'s Moving Castle' -> 'Howl's Moving Castle'</code>"
   ]
  },
  {
   "cell_type": "markdown",
   "id": "78d31fe7",
   "metadata": {},
   "source": [
    "## 5. How do you write a string of newlines if you don't want to use the n character?\n",
    "\n",
    "### Answer:\n",
    "Multiline string allow you to use newlines in string without the<code> \\n </code>escape character"
   ]
  },
  {
   "cell_type": "code",
   "execution_count": 1,
   "id": "fb623f04",
   "metadata": {},
   "outputs": [
    {
     "name": "stdout",
     "output_type": "stream",
     "text": [
      "iNeuron full stack\n",
      "Data Science Course\n"
     ]
    }
   ],
   "source": [
    "# Example:\n",
    "a = '''iNeuron full stack\n",
    "Data Science Course'''\n",
    "print(a)"
   ]
  },
  {
   "cell_type": "markdown",
   "id": "28654f1c",
   "metadata": {},
   "source": [
    "## 6. What are the values of the given expressions?\n",
    "* 'Hello, world!'[1]\n",
    "* 'Hello, world!'[0:5]\n",
    "* 'Hello, world!'[:5]\n",
    "* 'Hello, world!'[3:]\n"
   ]
  },
  {
   "cell_type": "code",
   "execution_count": 3,
   "id": "6e37b6b0",
   "metadata": {},
   "outputs": [
    {
     "name": "stdout",
     "output_type": "stream",
     "text": [
      "e\n",
      "Hello\n",
      "Hello\n",
      "lo, world!\n"
     ]
    }
   ],
   "source": [
    "print('Hello, world!'[1])\n",
    "print('Hello, world!'[0:5])\n",
    "print('Hello, world!'[:5])\n",
    "print('Hello, world!'[3:])"
   ]
  },
  {
   "cell_type": "markdown",
   "id": "2fc7c7ae",
   "metadata": {},
   "source": [
    "## 7. What are the values of the following expressions?\n",
    "* 'Hello'.upper()\n",
    "* 'Hello'.upper().isupper()\n",
    "* 'Hello'.upper().lower()\n"
   ]
  },
  {
   "cell_type": "code",
   "execution_count": 4,
   "id": "fdb86ff2",
   "metadata": {},
   "outputs": [
    {
     "name": "stdout",
     "output_type": "stream",
     "text": [
      "HELLO\n",
      "True\n",
      "hello\n"
     ]
    }
   ],
   "source": [
    "print('Hello'.upper())\n",
    "print('Hello'.upper().isupper())\n",
    "print('Hello'.upper().lower())"
   ]
  },
  {
   "cell_type": "markdown",
   "id": "ea8c7636",
   "metadata": {},
   "source": [
    "## 8. What are the values of the following expressions?\n",
    "* 'Remember, remember, the fifth of July.'.split()\n",
    "* '-'.join('There can only one.'.split())\n"
   ]
  },
  {
   "cell_type": "code",
   "execution_count": 5,
   "id": "f4d27cb9",
   "metadata": {},
   "outputs": [
    {
     "name": "stdout",
     "output_type": "stream",
     "text": [
      "['Remember,', 'remember,', 'the', 'fifth', 'of', 'July.']\n",
      "There-can-only-one.\n"
     ]
    }
   ],
   "source": [
    "print('Remember, remember, the fifth of July.'.split())\n",
    "print('-'.join('There can only one.'.split()))"
   ]
  },
  {
   "cell_type": "markdown",
   "id": "901a3cd1",
   "metadata": {},
   "source": [
    "## 9. What are the methods for right-justifying, left-justifying, and centering a string?\n",
    "\n",
    "### Answer:\n",
    "The <code>rjust()</code>,<code>ljust()</code>,<code>center()</code> string methods, respectively"
   ]
  },
  {
   "cell_type": "markdown",
   "id": "c18dddf8",
   "metadata": {},
   "source": [
    "## 10. What is the best way to remove whitespace characters from the start or end?\n",
    "\n",
    "### Answer:\n",
    "The <code>lstrip()</code> and <code>rstrip()</code> methods remove whitesapce characters from the left and right ends of a string respectively"
   ]
  }
 ],
 "metadata": {
  "kernelspec": {
   "display_name": "Python 3 (ipykernel)",
   "language": "python",
   "name": "python3"
  },
  "language_info": {
   "codemirror_mode": {
    "name": "ipython",
    "version": 3
   },
   "file_extension": ".py",
   "mimetype": "text/x-python",
   "name": "python",
   "nbconvert_exporter": "python",
   "pygments_lexer": "ipython3",
   "version": "3.9.7"
  }
 },
 "nbformat": 4,
 "nbformat_minor": 5
}
