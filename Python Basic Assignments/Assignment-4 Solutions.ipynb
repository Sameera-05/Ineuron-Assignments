{
 "cells": [
  {
   "cell_type": "markdown",
   "id": "d76d592d",
   "metadata": {},
   "source": [
    "# Assignment 4 Solutions"
   ]
  },
  {
   "cell_type": "markdown",
   "id": "c33bcdd5",
   "metadata": {},
   "source": [
    "## 1. What exactly is []?\n",
    "\n",
    "### Answer:\n",
    "\n",
    "The empty list represented by [] is a list that contains no items. This is similar to '' which represents an empty string"
   ]
  },
  {
   "cell_type": "markdown",
   "id": "f124b57f",
   "metadata": {},
   "source": [
    "## 2. In a list of values stored in a variable called spam, how would you assign the value 'hello' as the third value? (Assume [2, 4, 6, 8, 10] are in spam.)\n"
   ]
  },
  {
   "cell_type": "code",
   "execution_count": 6,
   "id": "3a75d927",
   "metadata": {},
   "outputs": [
    {
     "data": {
      "text/plain": [
       "[2, 4, 6, 8, 10]"
      ]
     },
     "execution_count": 6,
     "metadata": {},
     "output_type": "execute_result"
    }
   ],
   "source": [
    "spam=[2,4,6,8,10]\n"
   ]
  },
  {
   "cell_type": "code",
   "execution_count": 7,
   "id": "4e88623f",
   "metadata": {},
   "outputs": [],
   "source": [
    "spam[2]='hello'"
   ]
  },
  {
   "cell_type": "code",
   "execution_count": 8,
   "id": "15f1d412",
   "metadata": {},
   "outputs": [
    {
     "data": {
      "text/plain": [
       "[2, 4, 'hello', 8, 10]"
      ]
     },
     "execution_count": 8,
     "metadata": {},
     "output_type": "execute_result"
    }
   ],
   "source": [
    "spam"
   ]
  },
  {
   "cell_type": "markdown",
   "id": "b3e81ef5",
   "metadata": {},
   "source": [
    "## Let's pretend the spam includes the list ['a', 'b', 'c', 'd'] for the next three queries.\n"
   ]
  },
  {
   "cell_type": "markdown",
   "id": "76ef9fac",
   "metadata": {},
   "source": [
    "## 3. What is the value of spam[int(int('3' * 2) / 11)]?\n"
   ]
  },
  {
   "cell_type": "code",
   "execution_count": 10,
   "id": "5e622a76",
   "metadata": {},
   "outputs": [
    {
     "data": {
      "text/plain": [
       "'d'"
      ]
     },
     "execution_count": 10,
     "metadata": {},
     "output_type": "execute_result"
    }
   ],
   "source": [
    "spam=['a','b','c','d']\n",
    "spam[int(int('3' * 2) / 11)]#as int(int('3' * 2) / 11 value is 3 it shows the value of 4th element in list"
   ]
  },
  {
   "cell_type": "markdown",
   "id": "2c34bba9",
   "metadata": {},
   "source": [
    "## 4. What is the value of spam[-1]?\n"
   ]
  },
  {
   "cell_type": "code",
   "execution_count": 11,
   "id": "23bb4fb8",
   "metadata": {},
   "outputs": [
    {
     "data": {
      "text/plain": [
       "'d'"
      ]
     },
     "execution_count": 11,
     "metadata": {},
     "output_type": "execute_result"
    }
   ],
   "source": [
    "spam[-1]# shows the first element from back of the list."
   ]
  },
  {
   "cell_type": "markdown",
   "id": "5c0a96ce",
   "metadata": {},
   "source": [
    "## 5. What is the value of spam[:2]?\n"
   ]
  },
  {
   "cell_type": "code",
   "execution_count": 12,
   "id": "d0cd2226",
   "metadata": {},
   "outputs": [
    {
     "data": {
      "text/plain": [
       "['a', 'b']"
      ]
     },
     "execution_count": 12,
     "metadata": {},
     "output_type": "execute_result"
    }
   ],
   "source": [
    "spam[:2]# displays the first two elemnts in the list "
   ]
  },
  {
   "cell_type": "markdown",
   "id": "1ba47313",
   "metadata": {},
   "source": [
    "## Let's pretend bacon has the list [3.14, 'cat,' 11, 'cat,' True] for the next three questions."
   ]
  },
  {
   "cell_type": "code",
   "execution_count": 20,
   "id": "162baa05",
   "metadata": {},
   "outputs": [
    {
     "data": {
      "text/plain": [
       "[3.14, 'cat', 11, 'cat', True]"
      ]
     },
     "execution_count": 20,
     "metadata": {},
     "output_type": "execute_result"
    }
   ],
   "source": [
    "bacon=[3.14, 'cat', 11, 'cat', True]\n",
    "bacon"
   ]
  },
  {
   "cell_type": "markdown",
   "id": "6fe77e2e",
   "metadata": {},
   "source": [
    "## 6. What is the value of bacon.index('cat')?\n"
   ]
  },
  {
   "cell_type": "code",
   "execution_count": 16,
   "id": "0c2bf845",
   "metadata": {},
   "outputs": [
    {
     "data": {
      "text/plain": [
       "1"
      ]
     },
     "execution_count": 16,
     "metadata": {},
     "output_type": "execute_result"
    }
   ],
   "source": [
    "bacon.index('cat')#index method returns the index of first occuerence of 'cat'"
   ]
  },
  {
   "cell_type": "markdown",
   "id": "6a79b0f6",
   "metadata": {},
   "source": [
    "## 7. How does bacon.append(99) change the look of the list value in bacon?"
   ]
  },
  {
   "cell_type": "code",
   "execution_count": 21,
   "id": "dcdf20fc",
   "metadata": {},
   "outputs": [
    {
     "data": {
      "text/plain": [
       "[3.14, 'cat', 11, 'cat', True, 99]"
      ]
     },
     "execution_count": 21,
     "metadata": {},
     "output_type": "execute_result"
    }
   ],
   "source": [
    "bacon.append(99) \n",
    "bacon"
   ]
  },
  {
   "cell_type": "markdown",
   "id": "b86b7340",
   "metadata": {},
   "source": [
    "## 8. How does bacon.remove('cat') change the look of the list in bacon?"
   ]
  },
  {
   "cell_type": "code",
   "execution_count": 22,
   "id": "efd0a072",
   "metadata": {},
   "outputs": [
    {
     "data": {
      "text/plain": [
       "[3.14, 11, 'cat', True, 99]"
      ]
     },
     "execution_count": 22,
     "metadata": {},
     "output_type": "execute_result"
    }
   ],
   "source": [
    "bacon.remove('cat')#The remove method removes the first occurence of the element in the list\n",
    "bacon"
   ]
  },
  {
   "cell_type": "markdown",
   "id": "2fef752f",
   "metadata": {},
   "source": [
    "## 9. What are the list concatenation and list replication operators?\n",
    "\n",
    "### Answer:\n",
    "\n",
    "The operator for list concatenation is + , while the operator for replication is *. (This is the same as for strings.)"
   ]
  },
  {
   "cell_type": "code",
   "execution_count": 23,
   "id": "9248d88c",
   "metadata": {},
   "outputs": [
    {
     "name": "stdout",
     "output_type": "stream",
     "text": [
      "[1, 2, 3, 4, 5, 6]\n",
      "[1, 2, 3, 1, 2, 3, 1, 2, 3]\n"
     ]
    }
   ],
   "source": [
    "x=[1,2,3]\n",
    "y=[4,5,6]\n",
    "print(x+y)#list concatenation\n",
    "print(x*3)#list replication"
   ]
  },
  {
   "cell_type": "markdown",
   "id": "8092f1ee",
   "metadata": {},
   "source": [
    "## 10. What is difference between the list methods append() and insert()?\n",
    "\n",
    "### Answer:\n",
    "\n",
    "* append()-> It adds the value at the end of list.\n",
    "* insert()-> It adds the value at the particular position of list."
   ]
  },
  {
   "cell_type": "markdown",
   "id": "420b7382",
   "metadata": {},
   "source": [
    "## 11. What are the two methods for removing items from a list?\n",
    "\n",
    "### Answer:\n",
    "The <code>del</code> statement and the <code>remove()</code> method are two ways to remove values from a list"
   ]
  },
  {
   "cell_type": "markdown",
   "id": "63cba6d1",
   "metadata": {},
   "source": [
    "## 12. Describe how list values and string values are identical.\n",
    "\n",
    "### Answer:\n",
    "Both lists and strings can be passed to <code>len()</code> function, have indexes and slices, be used in <code>for</code> loops, be concatenated or replicated, and be used with the in and not in operators."
   ]
  },
  {
   "cell_type": "markdown",
   "id": "5b7413a3",
   "metadata": {},
   "source": [
    "## 13. What's the difference between tuples and lists?\n",
    "\n",
    "### Answer:\n",
    "Lists are <code>Mutable</code>, <code>Indexable</code> and <code>Slicable</code>. they can have values added, removed, or changed. Tuples are Immutable but Indexable and Slicable. the tuple values cannot be changed at all. Also, tuples are represented using parentheses, (), while lists use the square brackets, []."
   ]
  },
  {
   "cell_type": "markdown",
   "id": "92c1105c",
   "metadata": {},
   "source": [
    "## 14. How do you type a tuple value that only contains the integer 42?\n"
   ]
  },
  {
   "cell_type": "code",
   "execution_count": 25,
   "id": "a41ef71b",
   "metadata": {},
   "outputs": [
    {
     "name": "stdout",
     "output_type": "stream",
     "text": [
      "<class 'int'>\n",
      "<class 'tuple'>\n"
     ]
    }
   ],
   "source": [
    "tup1=(42)\n",
    "tup2=(42,)\n",
    "print(type(tup1))\n",
    "print(type(tup2))"
   ]
  },
  {
   "cell_type": "markdown",
   "id": "62d2c1a9",
   "metadata": {},
   "source": [
    "## 15. How do you get a list value's tuple form? How do you get a tuple value's list form?\n"
   ]
  },
  {
   "cell_type": "code",
   "execution_count": 27,
   "id": "d8d53e0e",
   "metadata": {},
   "outputs": [
    {
     "name": "stdout",
     "output_type": "stream",
     "text": [
      "<class 'list'>\n",
      "<class 'tuple'>\n"
     ]
    }
   ],
   "source": [
    "l=(42,65,75,)\n",
    "z=[2,3,4,5]\n",
    "print(type(list(l)))# by using list() tuple can be changed to list.\n",
    "print(type(tuple(z)))#by using tuple() list can be changed to tuple.\n"
   ]
  },
  {
   "cell_type": "markdown",
   "id": "e31a2a44",
   "metadata": {},
   "source": [
    "## 16. Variables that \"contain\" list values are not necessarily lists themselves. Instead, what do they contain?\n",
    "\n",
    "### Answer:\n",
    "They contain references to list values."
   ]
  },
  {
   "cell_type": "markdown",
   "id": "f8168404",
   "metadata": {},
   "source": [
    "## 17. How do you distinguish between copy.copy() and copy.deepcopy()?\n",
    "\n",
    "The <code>copy.copy()</code> function will do a shallow copy of a list, while the <code>copy.deepcopy()</code> function will do a deep copy of a list. That is, only <code>copy.deepcopy()</code> will duplicate any lists inside the list."
   ]
  }
 ],
 "metadata": {
  "kernelspec": {
   "display_name": "Python 3 (ipykernel)",
   "language": "python",
   "name": "python3"
  },
  "language_info": {
   "codemirror_mode": {
    "name": "ipython",
    "version": 3
   },
   "file_extension": ".py",
   "mimetype": "text/x-python",
   "name": "python",
   "nbconvert_exporter": "python",
   "pygments_lexer": "ipython3",
   "version": "3.9.7"
  }
 },
 "nbformat": 4,
 "nbformat_minor": 5
}
