{
 "cells": [
  {
   "cell_type": "markdown",
   "id": "30f45f96",
   "metadata": {},
   "source": [
    "# Assignment-1 solutions\n"
   ]
  },
  {
   "cell_type": "markdown",
   "id": "3951566e",
   "metadata": {},
   "source": [
    "### 1. In the below elements which of them are values or an expression? eg:- values can be integer or string and expressions will be mathematical operators.\n",
    "\n",
    "* *,'hello',-87.8,- ,/ ,+,6 \n",
    "\n",
    "### Answer:\n",
    "### Operators/Expressions: *,-,/,+\n",
    "### Values: 'hello',-87.8,6\n"
   ]
  },
  {
   "cell_type": "markdown",
   "id": "b46ee6a5",
   "metadata": {},
   "source": [
    "## 2. What is the difference between string and variable?\n",
    "\n",
    "### Answer: \n",
    "\n",
    "A string is a literal text string, i.e. 'Hello'.\n",
    "\n",
    "A variable is something that stores data (per se) - it can store a string, int, float, class, etc."
   ]
  },
  {
   "cell_type": "markdown",
   "id": "fe3d1b95",
   "metadata": {},
   "source": [
    "## 3. Describe three different data types.\n",
    "\n",
    "### Answer:\n",
    "\n",
    "The 3 diffrent data types are Integer,String,Float\n",
    "\n",
    "Integer: a integer value is discribed as a int data type.\n",
    "ex: -9,1,123 etc\n",
    "\n",
    "String: Collection of alphabets to form words or scentences\n",
    "ex: \"hello\",\"abc\" etc\n",
    "\n",
    "Float: a decimal integer is described as float data type \n",
    "\n",
    "ex: 6.00,9.00,-35.000 etc"
   ]
  },
  {
   "cell_type": "markdown",
   "id": "0ebe8b89",
   "metadata": {},
   "source": [
    "## 4. What is an expression made up of? What do all expressions do?\n",
    "\n",
    "### Answer:\n",
    "\n",
    "Expressions are made of operators and operands to produce some other value.\n",
    "\n",
    "Expressions produce a value after solving the expression.\n",
    "ex: 3+4-9 is a expression\n",
    " value produced is -2."
   ]
  },
  {
   "cell_type": "markdown",
   "id": "30539aa1",
   "metadata": {},
   "source": [
    "## 5. This assignment statements, like spam = 10. What is the difference between an expression and a statement?\n",
    "\n",
    "### Answer:\n",
    "\n",
    "An expression is a combination of values, variables, and operators.When we type an expression at the prompt, the interpreter evaluates it, which means that it finds the value of the expression.\n",
    "\n",
    "eg: 7*5-9+30 is an example of a expression\n",
    "\n",
    "A statement is a unit of code that has an effect, like creating a variable or displaying a value.When we type a statement, the interpreter executes it, which means that it does whatever the statement says. In general, statements don’t have values.\n",
    "\n",
    "eg: variable declaration and assignment are statements because they do not return a value"
   ]
  },
  {
   "cell_type": "markdown",
   "id": "be93d4f3",
   "metadata": {},
   "source": [
    "## 6. After running the following code, what does the variable bacon contain?\n",
    "bacon = 22\n",
    "bacon + 1\n"
   ]
  },
  {
   "cell_type": "code",
   "execution_count": 1,
   "id": "cbbae184",
   "metadata": {},
   "outputs": [
    {
     "data": {
      "text/plain": [
       "23"
      ]
     },
     "execution_count": 1,
     "metadata": {},
     "output_type": "execute_result"
    }
   ],
   "source": [
    "bacon = 22\n",
    "bacon + 1"
   ]
  },
  {
   "cell_type": "code",
   "execution_count": 2,
   "id": "6153f73c",
   "metadata": {},
   "outputs": [
    {
     "data": {
      "text/plain": [
       "22"
      ]
     },
     "execution_count": 2,
     "metadata": {},
     "output_type": "execute_result"
    }
   ],
   "source": [
    "bacon"
   ]
  },
  {
   "cell_type": "markdown",
   "id": "8ce465fb",
   "metadata": {},
   "source": [
    "### Ans:\n",
    "\n",
    "the varible bacon contains 22 as bacon+1=22+1=23\n",
    "\n",
    "but we did not assign bacon = bacon+1\n",
    "so the final value of bacon will be 22 only"
   ]
  },
  {
   "cell_type": "markdown",
   "id": "94e396b3",
   "metadata": {},
   "source": [
    "## 7. What should the values of the following two terms be?\n",
    "'spam' + 'spamspam'\n",
    "'spam' * 3\n"
   ]
  },
  {
   "cell_type": "code",
   "execution_count": 4,
   "id": "b1adb8cd",
   "metadata": {},
   "outputs": [
    {
     "data": {
      "text/plain": [
       "'spamspamspam'"
      ]
     },
     "execution_count": 4,
     "metadata": {},
     "output_type": "execute_result"
    }
   ],
   "source": [
    "'spam' + 'spamspam' \n"
   ]
  },
  {
   "cell_type": "code",
   "execution_count": 5,
   "id": "b4f4f198",
   "metadata": {},
   "outputs": [
    {
     "data": {
      "text/plain": [
       "'spamspamspam'"
      ]
     },
     "execution_count": 5,
     "metadata": {},
     "output_type": "execute_result"
    }
   ],
   "source": [
    "'spam' * 3"
   ]
  },
  {
   "cell_type": "markdown",
   "id": "ad406baf",
   "metadata": {},
   "source": [
    "### Answer:\n",
    "\n",
    "    'spam'+'spamspam'--->string concatenation\n",
    "    'spam'*3  ---> string multiplication"
   ]
  },
  {
   "cell_type": "markdown",
   "id": "262330ce",
   "metadata": {},
   "source": [
    "## 8. Why is eggs a valid variable name while 100 is invalid?\n",
    "\n",
    "### Answer:\n",
    "\n",
    "as 100 is a numeric value it cannot be a varaiable beacaue if we assign a value to 100\n",
    "then 100=3 which does not make any sense so 100 or other numeric values cannot be used as varaibles\n",
    "\n",
    "while egg can be used as a variable as we can assign other values to it\n",
    "\n",
    "ex: egg=5"
   ]
  },
  {
   "cell_type": "markdown",
   "id": "dee50d94",
   "metadata": {},
   "source": [
    "## 9. What three functions can be used to get the integer, floating-point number, or string version of a value?\n",
    "\n"
   ]
  },
  {
   "cell_type": "code",
   "execution_count": 6,
   "id": "386455ed",
   "metadata": {},
   "outputs": [
    {
     "name": "stdout",
     "output_type": "stream",
     "text": [
      "int(10.0)= 10\n",
      "float(10)=  10.0\n",
      "str(10)= 10\n"
     ]
    }
   ],
   "source": [
    "# Examples:\n",
    "# int() function converts given input to int\n",
    "print('int(10.0)=',int(10.0))\n",
    "# float() function converts given input to float\n",
    "print('float(10)= ',float(10))\n",
    "# str() function converts given input to string\n",
    "print('str(10)=',str(10))"
   ]
  },
  {
   "cell_type": "markdown",
   "id": "f4468b98",
   "metadata": {},
   "source": [
    "## 10. Why does this expression cause an error? How can you fix it?\n",
    "'I have eaten ' + 99 + ' burritos.'\n"
   ]
  },
  {
   "cell_type": "code",
   "execution_count": 7,
   "id": "998d3f45",
   "metadata": {},
   "outputs": [
    {
     "ename": "TypeError",
     "evalue": "can only concatenate str (not \"int\") to str",
     "output_type": "error",
     "traceback": [
      "\u001b[1;31m---------------------------------------------------------------------------\u001b[0m",
      "\u001b[1;31mTypeError\u001b[0m                                 Traceback (most recent call last)",
      "\u001b[1;32m~\\AppData\\Local\\Temp/ipykernel_1928/3992538259.py\u001b[0m in \u001b[0;36m<module>\u001b[1;34m\u001b[0m\n\u001b[1;32m----> 1\u001b[1;33m \u001b[1;34m'I have eaten '\u001b[0m \u001b[1;33m+\u001b[0m \u001b[1;36m99\u001b[0m \u001b[1;33m+\u001b[0m \u001b[1;34m' burritos.'\u001b[0m\u001b[1;33m\u001b[0m\u001b[1;33m\u001b[0m\u001b[0m\n\u001b[0m",
      "\u001b[1;31mTypeError\u001b[0m: can only concatenate str (not \"int\") to str"
     ]
    }
   ],
   "source": [
    "'I have eaten ' + 99 + ' burritos.'\n"
   ]
  },
  {
   "cell_type": "markdown",
   "id": "d7a9fed9",
   "metadata": {},
   "source": [
    "### Answer: \n",
    "We cannot add a string and a integer value we can only add two strings.\n",
    "\n",
    "to avoid this error we can chnage 99 to string.\n",
    "\n",
    "'I have eaten ' + '99' + ' burritos.'\n"
   ]
  },
  {
   "cell_type": "code",
   "execution_count": 8,
   "id": "837dc900",
   "metadata": {},
   "outputs": [
    {
     "data": {
      "text/plain": [
       "'I have eaten 99 burritos.'"
      ]
     },
     "execution_count": 8,
     "metadata": {},
     "output_type": "execute_result"
    }
   ],
   "source": [
    "'I have eaten ' + '99' + ' burritos.'"
   ]
  },
  {
   "cell_type": "code",
   "execution_count": null,
   "id": "26e2ccea",
   "metadata": {},
   "outputs": [],
   "source": []
  }
 ],
 "metadata": {
  "kernelspec": {
   "display_name": "Python 3 (ipykernel)",
   "language": "python",
   "name": "python3"
  },
  "language_info": {
   "codemirror_mode": {
    "name": "ipython",
    "version": 3
   },
   "file_extension": ".py",
   "mimetype": "text/x-python",
   "name": "python",
   "nbconvert_exporter": "python",
   "pygments_lexer": "ipython3",
   "version": "3.9.7"
  }
 },
 "nbformat": 4,
 "nbformat_minor": 5
}
