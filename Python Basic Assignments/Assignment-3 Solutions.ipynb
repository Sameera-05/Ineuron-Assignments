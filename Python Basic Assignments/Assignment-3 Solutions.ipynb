{
 "cells": [
  {
   "cell_type": "markdown",
   "id": "edffe501",
   "metadata": {},
   "source": [
    "# Assignment 3 Solutions"
   ]
  },
  {
   "cell_type": "markdown",
   "id": "01ba97e6",
   "metadata": {},
   "source": [
    "## 1. Why are functions advantageous to have in your programs?\n",
    "\n",
    "### Answer:\n",
    "When we want to access a certain part of code many times if we write it as a function then we can reuse the code by just calling the function which is easy and time saving.\n",
    "Functions reduce the need for duplicate code. This makes programs shorter, easier to read, and easier to update. The main advantage of functions is code Reusability.\n"
   ]
  },
  {
   "cell_type": "markdown",
   "id": "02c4773c",
   "metadata": {},
   "source": [
    "## 2. When does the code in a function run: when it's specified or when it's called?\n",
    "\n",
    "### Answer:\n",
    "\n",
    " The code in a function executes when the function is called."
   ]
  },
  {
   "cell_type": "markdown",
   "id": "8b2eb89f",
   "metadata": {},
   "source": [
    "## 3. What statement creates a function?\n",
    "\n",
    "### Answer;\n",
    "The def statement creates a function"
   ]
  },
  {
   "cell_type": "markdown",
   "id": "3d6d832e",
   "metadata": {},
   "source": [
    "## 4. What is the difference between a function and a function call?\n",
    "\n",
    "### Answer:\n",
    "A function is procedure to achieve a particular result. while function call is using this function to achive that task. Using a function to do a particular task any point in program is called as function call."
   ]
  },
  {
   "cell_type": "markdown",
   "id": "e51868fe",
   "metadata": {},
   "source": [
    "## 5. How many global scopes are there in a Python program? How many local scopes?\n",
    "\n",
    "### Answer:\n",
    "\n",
    "     There is one global scope\n",
    "     A local scope is created whenever a function is called."
   ]
  },
  {
   "cell_type": "markdown",
   "id": "8e03f6f8",
   "metadata": {},
   "source": [
    "## 6. What happens to variables in a local scope when the function call returns?\n",
    "\n",
    "### Answer:\n",
    "\n",
    "When a function returns, the local scope is destroyed, and all the variables in it are discarded.\n"
   ]
  },
  {
   "cell_type": "markdown",
   "id": "5a77fc66",
   "metadata": {},
   "source": [
    "## 7. What is the concept of a return value? Is it possible to have a return value in an expression?\n",
    "\n",
    "### Answer:\n",
    " A return value is the value that a function call evaluates to. Like any value, a return value can be used as part of an expression"
   ]
  },
  {
   "cell_type": "markdown",
   "id": "52178505",
   "metadata": {},
   "source": [
    "## 8. If a function does not have a return statement, what is the return value of a call to that function?\n",
    "\n",
    "### Answer:\n",
    "\n",
    "If there is no return statement for a function, its return value is None."
   ]
  },
  {
   "cell_type": "markdown",
   "id": "aea590e3",
   "metadata": {},
   "source": [
    "## 9. How do you make a function variable refer to the global variable?\n",
    "\n",
    "### Answer:\n",
    " A global statement will force a variable in a function to refer to the global variable. If you want to refer to a global variable in a function, you can use the global keyword to declare which variables are global."
   ]
  },
  {
   "cell_type": "markdown",
   "id": "ec776527",
   "metadata": {},
   "source": [
    "## 10. What is the data type of None?\n",
    "\n",
    "### Answer:\n",
    "\n",
    " The data type of None is NoneType.\n"
   ]
  },
  {
   "cell_type": "code",
   "execution_count": 2,
   "id": "e8b9305e",
   "metadata": {},
   "outputs": [
    {
     "name": "stdout",
     "output_type": "stream",
     "text": [
      "<class 'NoneType'>\n"
     ]
    }
   ],
   "source": [
    "print (type(None))"
   ]
  },
  {
   "cell_type": "markdown",
   "id": "5067253a",
   "metadata": {},
   "source": [
    "## 11. What does the sentence import areallyourpetsnamederic do?\n",
    "\n",
    "### Answer:\n",
    "That import statement imports a module named areallyourpetsnamederic.\n"
   ]
  },
  {
   "cell_type": "markdown",
   "id": "a43ca0ef",
   "metadata": {},
   "source": [
    "## 12. If you had a bacon() feature in a spam module, what would you call it after importing spam?\n",
    "\n",
    "### Answer:\n",
    "\n",
    "spam.bacon()"
   ]
  },
  {
   "cell_type": "markdown",
   "id": "872ae7ba",
   "metadata": {},
   "source": [
    "## 13. What can you do to save a programme from crashing if it encounters an error?\n",
    "\n",
    "### Answer:\n",
    "Place the line of code that might cause an error in a try clause and use except block to handle the error."
   ]
  },
  {
   "cell_type": "markdown",
   "id": "6ce9383c",
   "metadata": {},
   "source": [
    "## 14. What is the purpose of the try clause? What is the purpose of the except clause?\n",
    "\n",
    "### Answer:\n",
    "The code that could potentially cause an error goes in the try clause. The code that executes if an error happens goes in the except clause."
   ]
  }
 ],
 "metadata": {
  "kernelspec": {
   "display_name": "Python 3 (ipykernel)",
   "language": "python",
   "name": "python3"
  },
  "language_info": {
   "codemirror_mode": {
    "name": "ipython",
    "version": 3
   },
   "file_extension": ".py",
   "mimetype": "text/x-python",
   "name": "python",
   "nbconvert_exporter": "python",
   "pygments_lexer": "ipython3",
   "version": "3.9.7"
  }
 },
 "nbformat": 4,
 "nbformat_minor": 5
}
