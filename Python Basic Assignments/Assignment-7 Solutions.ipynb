{
 "cells": [
  {
   "cell_type": "markdown",
   "id": "9882a6d3",
   "metadata": {},
   "source": [
    "# Assignments 7 Solutions"
   ]
  },
  {
   "cell_type": "markdown",
   "id": "8ccaff52",
   "metadata": {},
   "source": [
    "## 1. What is the name of the feature responsible for generating Regex objects?\n",
    "\n",
    "### Answer:\n",
    "<code>re.compile()</code> is the feature responsible for generation of Regex objects."
   ]
  },
  {
   "cell_type": "code",
   "execution_count": 1,
   "id": "3c844496",
   "metadata": {},
   "outputs": [
    {
     "name": "stdout",
     "output_type": "stream",
     "text": [
      "<class 're.Pattern'>\n",
      "re.compile('some_random_pattern')\n"
     ]
    }
   ],
   "source": [
    "import re\n",
    "x = re.compile(\"some_random_pattern\")\n",
    "print(type(x))\n",
    "print(x)"
   ]
  },
  {
   "cell_type": "markdown",
   "id": "eae3b3a3",
   "metadata": {},
   "source": [
    "## 2. Why do raw strings often appear in Regex objects?\n",
    "\n",
    "### Answer:\n",
    "\n",
    "Regular expressions use the backslash character <code>('\\\\') </code>to indicate special forms (Metacharacters) or to allow special characters (speical sequences) to be used without invoking their special meaning. This collides with Python’s usage of the same character for the same purpose in string literals. Hence, Raw strings are used (e.g. r\"\\n\") so that backslashes do not have to be escaped."
   ]
  },
  {
   "cell_type": "code",
   "execution_count": 2,
   "id": "54bd5893",
   "metadata": {},
   "outputs": [
    {
     "name": "stdout",
     "output_type": "stream",
     "text": [
      "Output: <re.Match object; span=(0, 1), match='I'>\n",
      "Output: None\n"
     ]
    }
   ],
   "source": [
    "import re\n",
    "match = re.search('i','Ineuron Full Stack Data Science Program', flags=re.IGNORECASE)\n",
    "print('Output:',match)\n",
    "match = re.search('X','Ineuron Full Stack Data Science Program', flags=re.IGNORECASE)\n",
    "print('Output:',match)"
   ]
  },
  {
   "cell_type": "markdown",
   "id": "fc431f49",
   "metadata": {},
   "source": [
    "## 3. What is the return value of the search() method?\n",
    "\n",
    "### Answer:\n",
    "The return value of <code>re.search(pattern,string)</code> method is a match object if the pattern is observed in the string else it returns a None"
   ]
  },
  {
   "cell_type": "markdown",
   "id": "a9da2a3e",
   "metadata": {},
   "source": [
    "## 4. From a Match item, how do you get the actual strings that match the pattern?\n",
    "\n",
    "### Answer:\n",
    "For Matched items <code>group()</code> methods returns actual strings that match the pattern"
   ]
  },
  {
   "cell_type": "markdown",
   "id": "aef099c2",
   "metadata": {},
   "source": [
    "## 5. In the regex which created from the r'(\\d\\d\\d)-(\\d\\d\\d-\\d\\d\\d\\d)', what does group zero cover? Group 2? Group 1?\n",
    "\n",
    "### Answer:\n",
    "In the Regex r'(\\d\\d\\d)-(\\d\\d\\d-\\d\\d\\d\\d)' the zero group covers the entire pattern match where as the first group cover (\\d\\d\\d) and the second group cover (\\d\\d\\d-\\d\\d\\d\\d)"
   ]
  },
  {
   "cell_type": "code",
   "execution_count": 7,
   "id": "d531ec68",
   "metadata": {},
   "outputs": [
    {
     "name": "stdout",
     "output_type": "stream",
     "text": [
      "('123', '222-3333')\n",
      "123-222-3333\n",
      "123\n",
      "222-3333\n"
     ]
    }
   ],
   "source": [
    "# Example Program\n",
    "import re\n",
    "phoneNumRegex = re.compile(r'(\\d\\d\\d)-(\\d\\d\\d-\\d\\d\\d\\d)')\n",
    "mo = phoneNumRegex.search('My number 123-222-3333.')\n",
    "print(mo.groups()) # Prints all groups in a tuple format\n",
    "print(mo.group()) # Always returns the fully matched string \n",
    "print(mo.group(1)) # Returns the first group\n",
    "print(mo.group(2)) # Returns the second group"
   ]
  },
  {
   "cell_type": "markdown",
   "id": "8f640d2a",
   "metadata": {},
   "source": [
    "## 6. In standard expression syntax, parentheses and intervals have distinct meanings. How can you tell a regex that you want it to fit real parentheses and periods?\n",
    "\n",
    " "
   ]
  },
  {
   "cell_type": "code",
   "execution_count": 8,
   "id": "918fb39c",
   "metadata": {},
   "outputs": [
    {
     "name": "stdout",
     "output_type": "stream",
     "text": [
      "(415) 555-4242\n"
     ]
    }
   ],
   "source": [
    "# Example Program\n",
    "import re\n",
    "phoneNumRegex = re.compile(r'(\\(\\d\\d\\d\\)) (\\d\\d\\d-\\d\\d\\d\\d)')\n",
    "mo = phoneNumRegex.search('My phone number is (415) 555-4242.')\n",
    "print(mo.group())"
   ]
  },
  {
   "cell_type": "markdown",
   "id": "21aae916",
   "metadata": {},
   "source": [
    "## 7. The findall() method returns a string list or a list of string tuples. What causes it to return one of the two options?\n",
    "\n",
    "### Answer:\n",
    " If the regex pattern has no groups, a list of strings matched is returned. if the regex pattern has groups, a list of tuple of strings is returned."
   ]
  },
  {
   "cell_type": "code",
   "execution_count": 9,
   "id": "9fe0815f",
   "metadata": {},
   "outputs": [
    {
     "name": "stdout",
     "output_type": "stream",
     "text": [
      "[('(415)', '555-4242')]\n",
      "['415-555-4242']\n"
     ]
    }
   ],
   "source": [
    "# Example Program\n",
    "import re\n",
    "phoneNumRegex = re.compile(r'(\\(\\d\\d\\d\\)) (\\d\\d\\d-\\d\\d\\d\\d)')\n",
    "mo = phoneNumRegex.findall('My phone number is (415) 555-4242.')\n",
    "print(mo)\n",
    "\n",
    "# Example Program\n",
    "import re\n",
    "phoneNumRegex = re.compile(r'\\d{3}-\\d{3}-\\d{4}')\n",
    "mo = phoneNumRegex.findall('My number is 415-555-4242.')\n",
    "print(mo) # Prints all groups in a tuple format"
   ]
  },
  {
   "cell_type": "markdown",
   "id": "3839548a",
   "metadata": {},
   "source": [
    "## 8. In standard expressions, what does the | character mean?\n",
    "\n",
    "### Answer:\n",
    "In Standard Expressions | means OR operator."
   ]
  },
  {
   "cell_type": "markdown",
   "id": "f3730619",
   "metadata": {},
   "source": [
    "## 9. In regular expressions, what does the character stand for?\n",
    "\n",
    "### Answer:\n",
    " In regular Expressions, ? characters represents zero or one match of the preceeding group."
   ]
  },
  {
   "cell_type": "markdown",
   "id": "d925d526",
   "metadata": {},
   "source": [
    "## 10.In regular expressions, what is the difference between the + and * characters?\n",
    "\n",
    "### Answer:\n",
    " In Regular Expressions, * Represents Zero ore more occurances of the preceeding group, whereas + represents one or more occurances of the preceeding group."
   ]
  },
  {
   "cell_type": "code",
   "execution_count": 10,
   "id": "e27f53bb",
   "metadata": {},
   "outputs": [
    {
     "name": "stdout",
     "output_type": "stream",
     "text": [
      "<re.Match object; span=(0, 6), match='Batman'>\n",
      "None\n"
     ]
    }
   ],
   "source": [
    "\n",
    "match_1 = re.search(\"Bat(wo)*man\",\"Batman returns\")\n",
    "print(match_1)\n",
    "match_2 = re.search(\"Bat(wo)+man\",\"Batman returns\")\n",
    "print(match_2)"
   ]
  },
  {
   "cell_type": "markdown",
   "id": "fb0379d8",
   "metadata": {},
   "source": [
    "## 11. What is the difference between {4} and {4,5} in regular expression?\n",
    "\n",
    "### Answer:\n",
    "<code>{4}</code> means that its preceeding group should repeat 4 times. where as<code> {4,5} </code>means that its preceeding group should repeat mininum 4 times and maximum 5 times inclusively"
   ]
  },
  {
   "cell_type": "markdown",
   "id": "29cca818",
   "metadata": {},
   "source": [
    "## 12. What do you mean by the \\d, \\w, and \\s shorthand character classes signify in regular expressions?\n",
    "\n",
    "### Answer:\n",
    "\n",
    "* \\d, \\w and \\s are special sequences in regular expresssions in python:\n",
    "\n",
    "* <b>\\w </b>– Matches a word character equivalent to [a-zA-Z0-9_]\n",
    "* <b>\\d </b>– Matches digit character equivalent to [0-9]\n",
    "* <b>\\s </b>– Matches whitespace character (space, tab, newline, etc.)"
   ]
  },
  {
   "cell_type": "markdown",
   "id": "276433a6",
   "metadata": {},
   "source": [
    "## 13. What do means by \\D, \\W, and \\S shorthand character classes signify in regular expressions?\n",
    "\n",
    "### Answer: \\D, \\W and \\S are special sequences in regular expresssions in python:\n",
    "\n",
    "* \\W – Matches any non-alphanumeric character equivalent to [^a-zA-Z0-9_]\n",
    "* \\D – Matches any non-digit character, this is equivalent to the set class [^0-9]\n",
    "* \\S – Matches any non-whitespace character\n"
   ]
  },
  {
   "cell_type": "markdown",
   "id": "9ceec753",
   "metadata": {},
   "source": [
    "## 14. What is the difference between .*? and .*?\n",
    "\n",
    "### Answer:\n",
    "\n",
    "<code>.* </code>is a Greedy mode, which returns the longest string that meets the condition. Whereas <code>.*? </code>is a non greedy mode which returns the shortest string that meets the condition."
   ]
  },
  {
   "cell_type": "markdown",
   "id": "b2de6f17",
   "metadata": {},
   "source": [
    "## 15. What is the syntax for matching both numbers and lowercase letters with a character class?\n",
    "\n",
    "### Answer:\n",
    " The Synatax is Either [a-z0-9] or [0-9a-z]"
   ]
  },
  {
   "cell_type": "markdown",
   "id": "d7022152",
   "metadata": {},
   "source": [
    "## 16. What is the procedure for making a normal expression in regax case insensitive?\n",
    "\n",
    "### Answer:\n",
    "We can pass <code>re.IGNORECASE</code> as a flag to make a noraml expression case insensitive"
   ]
  },
  {
   "cell_type": "markdown",
   "id": "a837dd46",
   "metadata": {},
   "source": [
    "## 17. What does the . character normally match? What does it match if re.DOTALL is passed as 2nd argument in re.compile()?\n",
    "\n",
    "### Answer:\n",
    "Dot <code>.</code> character matches everything in input except newline character .. By passing <code>re.DOTALL</code> as a flag to <code>re.compile()</code>, you can make the dot character match all characters, including the newline character."
   ]
  },
  {
   "cell_type": "markdown",
   "id": "e2fbb815",
   "metadata": {},
   "source": [
    "## 18. If numReg = re.compile(r'\\d+'), what will numRegex.sub('X', '11 drummers, 10 pipers, five rings, 4 hen') return?\n"
   ]
  },
  {
   "cell_type": "code",
   "execution_count": 12,
   "id": "226e73b2",
   "metadata": {},
   "outputs": [
    {
     "data": {
      "text/plain": [
       "'X drummers, X pipers, five rings, X hen'"
      ]
     },
     "execution_count": 12,
     "metadata": {},
     "output_type": "execute_result"
    }
   ],
   "source": [
    "\n",
    "numReg = re.compile(r'\\d+')\n",
    "numReg.sub('X', '11 drummers, 10 pipers, five rings, 4 hen')"
   ]
  },
  {
   "cell_type": "markdown",
   "id": "ba4386b9",
   "metadata": {},
   "source": [
    "## 19. What does passing re.VERBOSE as the 2nd argument to re.compile() allow to do?\n",
    "\n",
    "### Answer:\n",
    "re.VERBOSE will allow to add whitespace and comments to string passed to re.compile()."
   ]
  },
  {
   "cell_type": "markdown",
   "id": "c79ee5e0",
   "metadata": {},
   "source": [
    "## 20. How would you write a regex that match a number with comma for every three digits? It must match the given following:\n",
    "* '42'\n",
    "* '1,234'\n",
    "* '6,368,745'\n"
   ]
  },
  {
   "cell_type": "code",
   "execution_count": 13,
   "id": "afaaab1a",
   "metadata": {},
   "outputs": [
    {
     "name": "stdout",
     "output_type": "stream",
     "text": [
      "Output: 42 -> <re.Match object; span=(0, 2), match='42'>\n",
      "Output: 1,234 -> <re.Match object; span=(0, 5), match='1,234'>\n",
      "Output: 6,368,745 -> <re.Match object; span=(0, 9), match='6,368,745'>\n",
      "Output: 12,34,567 -> None\n",
      "Output: 1234 -> None\n"
     ]
    }
   ],
   "source": [
    "import re\n",
    "pattern = r'^\\d{1,3}(,\\d{3})*$'\n",
    "pagex = re.compile(pattern)\n",
    "for ele in ['42','1,234', '6,368,745','12,34,567','1234']:\n",
    "    print('Output:',ele, '->', pagex.search(ele))"
   ]
  },
  {
   "cell_type": "markdown",
   "id": "68a9e15f",
   "metadata": {},
   "source": [
    "## 21. How would you write a regex that matches the full name of someone whose last name is Watanabe? You can assume that the first name that comes before it will always be one word that begins with a capital letter.\n",
    "The regex must match the following:\n",
    "* 'Haruto Watanabe'\n",
    "* 'Alice Watanabe'\n",
    "* 'RoboCop Watanabe'\n",
    "\n",
    "\n",
    "but not the following:\n",
    "* 'haruto Watanabe' (where the first name is not capitalized)\n",
    "* 'Mr. Watanabe' (where the preceding word has a nonletter character)\n",
    "* 'Watanabe' (which has no first name)\n",
    "* 'Haruto watanabe' (where Watanabe is not capitalized)\n"
   ]
  },
  {
   "cell_type": "code",
   "execution_count": 14,
   "id": "fae4b842",
   "metadata": {},
   "outputs": [
    {
     "name": "stdout",
     "output_type": "stream",
     "text": [
      "Output:  Haruto Watanabe -> <re.Match object; span=(0, 15), match='Haruto Watanabe'>\n",
      "Output:  Alice Watanabe -> <re.Match object; span=(0, 14), match='Alice Watanabe'>\n",
      "Output:  RoboCop Watanabe -> <re.Match object; span=(4, 16), match='Cop Watanabe'>\n",
      "Output:  haruto Watanabe -> None\n",
      "Output:  Mr. Watanabe -> None\n",
      "Output:  Watanabe -> None\n",
      "Output:  Haruto watanabe -> None\n"
     ]
    }
   ],
   "source": [
    "import re\n",
    "pattern = r'[A-Z]{1}[a-z]*\\sWatanabe'\n",
    "namex = re.compile(pattern)\n",
    "for name in ['Haruto Watanabe','Alice Watanabe','RoboCop Watanabe','haruto Watanabe','Mr. Watanabe','Watanabe','Haruto watanabe']:\n",
    "    print('Output: ',name,'->',namex.search(name))"
   ]
  },
  {
   "cell_type": "markdown",
   "id": "26c01825",
   "metadata": {},
   "source": [
    "## 22. How would you write a regex that matches a sentence where the first word is either Alice, Bob, or Carol; the second word is either eats, pets, or throws; the third word is apples, cats, or baseballs; and the sentence ends with a period? This regex should be case-insensitive. It must match the following:\n",
    "* 'Alice eats apples.'\n",
    "* 'Bob pets cats.'\n",
    "* 'Carol throws baseballs.'\n",
    "* 'Alice throws Apples.'\n",
    "* 'BOB EATS CATS.'\n",
    "\n",
    "\n",
    "but not the following:\n",
    "* 'RoboCop eats apples.'\n",
    "* 'ALICE THROWS FOOTBALLS.'\n",
    "* 'Carol eats 7 cats.'\n",
    "\n"
   ]
  },
  {
   "cell_type": "code",
   "execution_count": 15,
   "id": "1137ba0e",
   "metadata": {},
   "outputs": [
    {
     "name": "stdout",
     "output_type": "stream",
     "text": [
      "Output:  Alice eats apples. -> <re.Match object; span=(0, 18), match='Alice eats apples.'>\n",
      "Output:  Bob pets cats. -> <re.Match object; span=(0, 14), match='Bob pets cats.'>\n",
      "Output:  Carol throws baseballs. -> <re.Match object; span=(0, 23), match='Carol throws baseballs.'>\n",
      "Output:  Alice throws Apples. -> <re.Match object; span=(0, 20), match='Alice throws Apples.'>\n",
      "Output:  BOB EATS CATS. -> <re.Match object; span=(0, 14), match='BOB EATS CATS.'>\n",
      "Output:  RoboCop eats apples. -> None\n",
      "Output:  ALICE THROWS FOOTBALLS. -> None\n",
      "Output:  Carol eats 7 cats. -> None\n"
     ]
    }
   ],
   "source": [
    "import re\n",
    "pattern = r'(Alice|Bob|Carol)\\s(eats|pets|throws)\\s(apples|cats|baseballs)\\.'\n",
    "casex = re.compile(pattern,re.IGNORECASE)\n",
    "for ele in ['Alice eats apples.','Bob pets cats.','Carol throws baseballs.','Alice throws Apples.','BOB EATS CATS.','RoboCop eats apples.'\n",
    ",'ALICE THROWS FOOTBALLS.','Carol eats 7 cats.']:\n",
    "    print('Output: ',ele,'->',casex.search(ele))"
   ]
  },
  {
   "cell_type": "code",
   "execution_count": null,
   "id": "95948d7a",
   "metadata": {},
   "outputs": [],
   "source": []
  }
 ],
 "metadata": {
  "kernelspec": {
   "display_name": "Python 3 (ipykernel)",
   "language": "python",
   "name": "python3"
  },
  "language_info": {
   "codemirror_mode": {
    "name": "ipython",
    "version": 3
   },
   "file_extension": ".py",
   "mimetype": "text/x-python",
   "name": "python",
   "nbconvert_exporter": "python",
   "pygments_lexer": "ipython3",
   "version": "3.9.7"
  }
 },
 "nbformat": 4,
 "nbformat_minor": 5
}
