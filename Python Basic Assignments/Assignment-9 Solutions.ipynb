{
 "cells": [
  {
   "cell_type": "markdown",
   "id": "f79b35e3",
   "metadata": {},
   "source": [
    "# Assignment 9 Solution"
   ]
  },
  {
   "cell_type": "markdown",
   "id": "d6f32015",
   "metadata": {},
   "source": [
    "## 1. To what does a relative path refer?\n",
    "\n",
    "### Answer:\n",
    "The <code>relative path</code> is the path to some file with respect to your current working directory (PWD)."
   ]
  },
  {
   "cell_type": "markdown",
   "id": "c8c98a3e",
   "metadata": {},
   "source": [
    "## 2. What does an absolute path start with your operating system?\n",
    "\n",
    "### Answer:\n",
    "In Linux based systems the absolute path starts with <code>/</code>. Where as in Windows based systems absolute path starts with <code>C:</code>"
   ]
  },
  {
   "cell_type": "markdown",
   "id": "32af2db0",
   "metadata": {},
   "source": [
    "## 3. What do the functions os.getcwd() and os.chdir() do?\n",
    "\n",
    "### Answer:\n",
    "<code>os.getcwd() </code>method tells us the location of current working directory (CWD). Whereas <code>os.chdir()</code> method in Python used to change the current working directory to specified path. These functions are similar to linux commands pwd and cd"
   ]
  },
  {
   "cell_type": "markdown",
   "id": "e804e487",
   "metadata": {},
   "source": [
    "## 4. What are the . and .. folders?\n",
    "\n",
    "### Answer:\n",
    "<b>'.'</b> Represents the Current Directory Whereas<b> '..'</b> Represents the Parent Directory of the Current Directory"
   ]
  },
  {
   "cell_type": "markdown",
   "id": "aed52d98",
   "metadata": {},
   "source": [
    "## 5. In C:\\bacon\\eggs\\spam.txt, which part is the dir name, and which part is the base name?\n",
    "\n",
    "### Answer:\n",
    "    For C:\\bacon\\eggs\\spam.txt \n",
    " The dir name is <code>'C:\\\\bacon\\\\eggs'</code><br>\n",
    "  The Base name is <code>'spam.txt'</code>"
   ]
  },
  {
   "cell_type": "markdown",
   "id": "2abf1dcb",
   "metadata": {},
   "source": [
    "## 6. What are the three “mode” arguments that can be passed to the open() function?\n",
    "\n",
    "### Answer:\n",
    "A file can be Accessed in python using <code>open() </code>function. open function takes two arguments filename and mode of operation (optional). if mode is not provided the default mode of opening is read mode\n",
    "So, the syntax being: <b>open(filename, mode)</b>\n",
    "\n",
    "<code>‘r’</code> – Read Mode: This is the default mode for open(). The file is opened and a pointer is positioned at the beginning of the file’s content.<br>\n",
    "<code>‘w’ </code>– Write Mode: Using this mode will overwrite any existing content in a file. If the given file does not exist, a new one will be created.<br>\n",
    "<code>‘r+’ </code>– Read/Write Mode: Use this mode if you need to simultaneously read and write to a file.<br>\n",
    "<code>‘a’ </code>– Append Mode: With this mode the user can append the data without overwriting any already existing data in the file.<br>\n",
    "<code>‘a+’</code> – Append and Read Mode: In this mode you can read and append the data without overwriting the original file.<br>\n",
    "<code>‘x’</code> – Exclusive Creating Mode: This mode is for the sole purpose of creating new files. Use this mode if you know the file to be written doesn’t exist beforehand.<br>"
   ]
  },
  {
   "cell_type": "markdown",
   "id": "96360ca5",
   "metadata": {},
   "source": [
    "## 7. What happens if an existing file is opened in write mode?\n",
    "\n",
    "### Answer:\n",
    "Using this mode will overwrite any existing content in a file. If the given file does not exist, a new one will be created."
   ]
  },
  {
   "cell_type": "markdown",
   "id": "9113be29",
   "metadata": {},
   "source": [
    "## 8. How do you tell the difference between read() and readlines()?\n",
    "\n",
    "### Answer:\n",
    "The main difference is that read() will read the whole file at once and then print out the first characters that take up as many bytes as you specify in the parenthesis\n",
    "\n",
    "* Whereas the readline() that will read and print out only the first characters that take up as many bytes as you specify in the parenthesis. You may want to use readline() when you're reading files that are too big for your RAM.<br>\n",
    "* The read() would treat each character in the file separately, meaning that the iteration would happen for every character.<br>\n",
    "* The readline() function, on the other hand, only reads a single line of the file. This means that if the first line of the file were three lines long, the readline() function would only parse (or iterate/operate) on the first line of the file."
   ]
  },
  {
   "cell_type": "markdown",
   "id": "684151cb",
   "metadata": {},
   "source": [
    "## 9. What data structure does a shelf value resemble?\n",
    "\n",
    "### Answer:\n",
    " it contains key and values it represents dictionary."
   ]
  },
  {
   "cell_type": "code",
   "execution_count": null,
   "id": "ea92fc95",
   "metadata": {},
   "outputs": [],
   "source": []
  }
 ],
 "metadata": {
  "kernelspec": {
   "display_name": "Python 3 (ipykernel)",
   "language": "python",
   "name": "python3"
  },
  "language_info": {
   "codemirror_mode": {
    "name": "ipython",
    "version": 3
   },
   "file_extension": ".py",
   "mimetype": "text/x-python",
   "name": "python",
   "nbconvert_exporter": "python",
   "pygments_lexer": "ipython3",
   "version": "3.9.7"
  }
 },
 "nbformat": 4,
 "nbformat_minor": 5
}
